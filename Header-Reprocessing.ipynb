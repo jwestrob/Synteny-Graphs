{
 "cells": [
  {
   "cell_type": "code",
   "execution_count": 1,
   "metadata": {
    "collapsed": true
   },
   "outputs": [],
   "source": [
    "from Bio import SeqIO\n",
    "import os, sys, csv"
   ]
  },
  {
   "cell_type": "code",
   "execution_count": 7,
   "metadata": {
    "collapsed": false
   },
   "outputs": [
    {
     "name": "stdout",
     "output_type": "stream",
     "text": [
      "G54.mfa\n",
      "G54.mfa processed\n",
      "R6.mfa\n",
      "R6.mfa processed\n",
      "backup\n",
      ".ipynb_checkpoints\n",
      "TIGR4.mfa\n",
      "TIGR4.mfa processed\n",
      "ATCC700669.mfa\n",
      "ATCC700669.mfa processed\n",
      "Header-Reprocessing.ipynb\n",
      "D39.mfa\n",
      "D39.mfa processed\n"
     ]
    }
   ],
   "source": [
    "def rename(filename):\n",
    "    records = list(SeqIO.parse(filename, 'fasta'))\n",
    "    for record in records:\n",
    "        record.id = filename.split('.')[0] + '.' + record.id.split('.')[-1]\n",
    "    with open(filename.split('.')[0] + '_new.mfa', 'w') as outfile:\n",
    "        SeqIO.write(records, outfile, 'fasta')\n",
    "    print(filename + ' processed')\n",
    "        \n",
    "for filename in os.listdir('.'):\n",
    "    print filename\n",
    "    if filename.split('.')[-1] == 'mfa':\n",
    "        rename(filename)"
   ]
  },
  {
   "cell_type": "code",
   "execution_count": 8,
   "metadata": {
    "collapsed": false
   },
   "outputs": [
    {
     "name": "stdout",
     "output_type": "stream",
     "text": [
      "G54.1_1\n"
     ]
    }
   ],
   "source": [
    "records = list(SeqIO.parse('G54_new.mfa', 'fasta'))\n",
    "print records[0].id"
   ]
  },
  {
   "cell_type": "code",
   "execution_count": null,
   "metadata": {
    "collapsed": true
   },
   "outputs": [],
   "source": []
  }
 ],
 "metadata": {
  "kernelspec": {
   "display_name": "Python 2",
   "language": "python",
   "name": "python2"
  },
  "language_info": {
   "codemirror_mode": {
    "name": "ipython",
    "version": 2
   },
   "file_extension": ".py",
   "mimetype": "text/x-python",
   "name": "python",
   "nbconvert_exporter": "python",
   "pygments_lexer": "ipython2",
   "version": "2.7.13"
  }
 },
 "nbformat": 4,
 "nbformat_minor": 2
}
